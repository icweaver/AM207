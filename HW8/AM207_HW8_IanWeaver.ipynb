{
 "cells": [
  {
   "cell_type": "markdown",
   "metadata": {},
   "source": [
    "# Homework #8 (Due 11/06/2019, 11:59pm)\n",
    "## Variational Inference for Bayesian Neural Networks\n",
    "\n",
    "**AM 207: Advanced Scientific Computing**<br>\n",
    "**Instructor: Weiwei Pan**<br>\n",
    "**Fall 2019**"
   ]
  },
  {
   "cell_type": "markdown",
   "metadata": {},
   "source": [
    "**Name: Ian Weaver**\n",
    "\n",
    "**Students collaborators:**"
   ]
  },
  {
   "cell_type": "markdown",
   "metadata": {},
   "source": [
    "### Instructions:\n",
    "\n",
    "**Submission Format:** Use this notebook as a template to complete your homework. Please intersperse text blocks (using Markdown cells) amongst `python` code and results -- format your submission for maximum readability. Your assignments will be graded for correctness as well as clarity of exposition and presentation -- a “right” answer by itself without an explanation or is presented with a difficult to follow format will receive no credit.\n",
    "\n",
    "**Code Check:** Before submitting, you must do a \"Restart and Run All\" under \"Kernel\" in the Jupyter or colab menu. Portions of your submission that contains syntactic or run-time errors will not be graded.\n",
    "\n",
    "**Libraries and packages:** Unless a problems specifically asks you to implement from scratch, you are welcomed to use any `python` library package in the standard Anaconda distribution."
   ]
  },
  {
   "cell_type": "code",
   "execution_count": 1,
   "metadata": {
    "scrolled": true
   },
   "outputs": [],
   "source": [
    "from autograd import numpy as np\n",
    "from autograd import grad\n",
    "from autograd.misc.optimizers import adam, sgd\n",
    "from autograd import scipy as sp\n",
    "import scipy as sp_base\n",
    "import pandas as pd\n",
    "import numpy\n",
    "import matplotlib.pyplot as plt\n",
    "import seaborn as sns\n",
    "import sys\n",
    "%matplotlib inline\n",
    "weqwdwqdwqwqdwqdqwwqqwadasdasdsaadadwadafasdsafasfadasfasfasfaasdasdsjhabasdvgsa"
   ]
  },
  {
   "cell_type": "code",
   "execution_count": 2,
   "metadata": {
    "cell_style": "center",
    "scrolled": true
   },
   "outputs": [],
   "source": [
    "# Plot configs\n",
    "fig_wide = (11, 4)\n",
    "%config InlineBackend.figure_format = \"retina\"\n",
    "%matplotlib inline\n",
    "sns.set(style=\"darkgrid\", palette=\"colorblind\", color_codes=True)"
   ]
  },
  {
   "cell_type": "markdown",
   "metadata": {
    "cell_style": "center"
   },
   "source": [
    "## Problem Description: Bayesian Neural Network Regression\n",
    "In Homework #7, you explored sampling from the posteriors of ***Bayesian neural networks*** using HMC. In Lab #8 you'll explore the extent to which HMC can be inefficient or ineffective for sampling from certain types of posteriors. In this homework, you will study variational approximations of BNN posteriors, especially when compared to the posteriors obtained by sampling (in Homework #7). The data is the same as the one for Homework #7."
   ]
  },
  {
   "cell_type": "markdown",
   "metadata": {},
   "source": [
    "### Part I: Implement Black-Box Variational Inference with the Reparametrization Trick\n",
    "\n",
    "1. (**BBVI with the Reparametrization Trick**) Implement BBVI with the reparametrization trick for approximating an arbitrary posterior $p(w| \\text{Data})$ by an isotropic Gaussian $\\mathcal{N}(\\mu, \\Sigma)$, where $\\Sigma$ is a diagonal matrix. See Lecture #15 or the example code from [autograd's github repo](https://github.com/HIPS/autograd/blob/master/examples/black_box_svi.py). \n",
    "<br><br>\n",
    "\n",
    "2. (**Unit Test**) Check that your implementation is correct by approximating the posterior of the following Bayesian logistic regression model:\n",
    "\\begin{align}\n",
    "w &\\sim \\mathcal{N}(0, 1)\\\\\n",
    "Y^{(n)} &\\sim Ber(\\text{sigm}(wX^{(n)} + 10))\n",
    "\\end{align}\n",
    "  where $w$, $Y^{(n)}$, $X^{(n)}$ are a real scalar valued random variables, and where the data consists of a single observation $(Y=1, X=-20)$.\n",
    "\n",
    "  The true posterior $p(w | Y=1, X=-20)$ should look like the following (i.e. the true posterior is left-skewed):\n",
    "<img src=\"./logistic_posterior.png\" style='height:200px;'>\n",
    "  Your mean-field variational approximation should be a Gaussian with mean -0.321 and standard deviation 0.876 (all approximate).\n",
    "<br><br>"
   ]
  },
  {
   "cell_type": "markdown",
   "metadata": {},
   "source": [
    "#### 1.1 BBVI with the Reparametrization Trick"
   ]
  },
  {
   "cell_type": "code",
   "execution_count": 3,
   "metadata": {},
   "outputs": [],
   "source": [
    "def black_box_variational_inference(logprob, D, num_samples):\n",
    "    \n",
    "    \"\"\"\n",
    "    Implements http://arxiv.org/abs/1401.0118, and uses the\n",
    "    local reparameterization trick from http://arxiv.org/abs/1506.02557\n",
    "    code taken from:\n",
    "    https://github.com/HIPS/autograd/blob/master/examples/black_box_svi.py\n",
    "    \"\"\"\n",
    "\n",
    "    def unpack_params(params):\n",
    "        # Variational dist is a diagonal Gaussian.\n",
    "        mean, log_std = params[:D], params[D:]\n",
    "        return mean, log_std\n",
    "\n",
    "    def gaussian_entropy(log_std):\n",
    "        return 0.5 * D * (1.0 + np.log(2*np.pi)) + np.sum(log_std)\n",
    "\n",
    "    rs = np.random.RandomState(0)\n",
    "    def variational_objective(params, t):\n",
    "        \"\"\"Provides a stochastic estimate of the variational lower bound.\"\"\"\n",
    "        mean, log_std = unpack_params(params)\n",
    "        samples = rs.randn(num_samples, D) * np.exp(log_std) + mean\n",
    "        lower_bound = gaussian_entropy(log_std) + np.mean(logprob(samples, t))\n",
    "        return -lower_bound\n",
    "\n",
    "    gradient = grad(variational_objective)\n",
    "\n",
    "    return variational_objective, gradient, unpack_params\n",
    "\n",
    "\n",
    "def variational_inference(Sigma_W, y, x, S, max_iteration, step_size, verbose):\n",
    "    '''implements wrapper for variational inference via bbb for bayesian regression'''\n",
    "    D = Sigma_W.shape[0]\n",
    "    Sigma_W_inv = np.linalg.inv(Sigma_W)\n",
    "    Sigma_W_det = np.linalg.det(Sigma_W)\n",
    "    variational_dim = D\n",
    "    \n",
    "    sigmoid = lambda x: 1. / (1. + np.exp(-x))\n",
    "    \n",
    "    #define the log prior on the model parameters\n",
    "    # multivariate normal\n",
    "    def log_prior(W):\n",
    "        constant_W = -0.5 * (D * np.log(2 * np.pi) + np.log(Sigma_W_det))\n",
    "        exponential_W = -0.5 * np.diag(np.dot(np.dot(W, Sigma_W_inv), W.T))\n",
    "        log_p_W = constant_W + exponential_W\n",
    "        return log_p_W\n",
    "\n",
    "    #define the log likelihood\n",
    "    # bernouilli\n",
    "    def log_lklhd(W):\n",
    "        bern_arg = sigmoid(W*1 + 10.)\n",
    "        return np.log(bern_arg)\n",
    "\n",
    "    #define the log joint density\n",
    "    log_density = lambda w, t: log_lklhd(w) + log_prior(w)\n",
    "\n",
    "    #build variational objective.\n",
    "    objective, gradient, unpack_params = \\\n",
    "    black_box_variational_inference(log_density, D, num_samples=S)\n",
    "\n",
    "    def callback(params, t, g):\n",
    "        if verbose:\n",
    "            if  t % 100 == 0:\n",
    "                print(\n",
    "                    \"Iteration {} lower bound {}; gradient mag: {}\".format(\n",
    "                    t, \n",
    "                    -objective(params, t), \n",
    "                    np.linalg.norm(gradient(params, t))\n",
    "                    )\n",
    "                )\n",
    "\n",
    "    print(\"Optimizing variational parameters...\")\n",
    "    #initialize variational parameters\n",
    "    init_mean = np.ones(D)\n",
    "    init_log_std = -100 * np.ones(D)\n",
    "    init_var_params = np.concatenate([init_mean, init_log_std])\n",
    "    \n",
    "    #perform gradient descent using adam (a type of gradient-based optimizer)\n",
    "    variational_params = adam(gradient, init_var_params, step_size=step_size, num_iters=max_iteration, callback=callback)\n",
    "    \n",
    "    return variational_params "
   ]
  },
  {
   "cell_type": "markdown",
   "metadata": {},
   "source": [
    "#### 1.2 Unit Test"
   ]
  },
  {
   "cell_type": "code",
   "execution_count": 19,
   "metadata": {},
   "outputs": [
    {
     "name": "stdout",
     "output_type": "stream",
     "text": [
      "Optimizing variational parameters...\n",
      "Iteration 0 lower bound -100.00001670156132; gradient mag: 1.414201752733763\n",
      "Iteration 100 lower bound -89.50004981737577; gradient mag: 1.0000043196938413\n",
      "Iteration 200 lower bound -79.50004559789356; gradient mag: 1.000000000025754\n",
      "Iteration 300 lower bound -69.50004569786732; gradient mag: 1.0000000000000022\n",
      "Iteration 400 lower bound -59.50004579786711; gradient mag: 1.0\n",
      "Iteration 500 lower bound -49.50004589786733; gradient mag: 1.0\n",
      "Iteration 600 lower bound -39.50004599786755; gradient mag: 1.0\n",
      "Iteration 700 lower bound -29.5000460978677; gradient mag: 1.0\n",
      "Iteration 800 lower bound -19.500046197867565; gradient mag: 1.0\n",
      "Iteration 900 lower bound -9.500046299394446; gradient mag: 0.9999999978847491\n",
      "Iteration 1000 lower bound -0.022685003127555392; gradient mag: 0.27358365434731496\n",
      "Iteration 1100 lower bound 0.009311992239024125; gradient mag: 0.027719792589524245\n",
      "Iteration 1200 lower bound 0.03386541529436227; gradient mag: 0.054183652310202765\n",
      "Iteration 1300 lower bound 0.055942941744696384; gradient mag: 0.11642992937213072\n",
      "Iteration 1400 lower bound 0.03549922768313318; gradient mag: 0.14423341853487726\n",
      "Iteration 1500 lower bound -0.002515054046658971; gradient mag: 0.1209818370928018\n",
      "Iteration 1600 lower bound -0.023158092763371885; gradient mag: 0.010359235124336666\n",
      "Iteration 1700 lower bound 0.05161049531582229; gradient mag: 0.08705252397715357\n",
      "Iteration 1800 lower bound -0.08375666202327481; gradient mag: 0.053245580830327065\n",
      "Iteration 1900 lower bound -0.010015202171748339; gradient mag: 0.09175984012837643\n"
     ]
    }
   ],
   "source": [
    "## load data\n",
    "x = np.array([-20.])\n",
    "y = np.array([1.])\n",
    "D = 1\n",
    "\n",
    "# VI params\n",
    "Sigma_W = np.array([[1]])\n",
    "S = 400\n",
    "max_iteration = 2_000\n",
    "step_size = 1e-1\n",
    "verbose=True\n",
    "\n",
    "vi_params = variational_inference(Sigma_W, x, y, S, max_iteration, step_size, verbose)"
   ]
  },
  {
   "cell_type": "code",
   "execution_count": 35,
   "metadata": {},
   "outputs": [
    {
     "name": "stdout",
     "output_type": "stream",
     "text": [
      "[0.0161316] [[1.00615344]]\n"
     ]
    },
    {
     "data": {
      "image/png": "[encoded data removed]",
      "text/plain": [
       "<Figure size 432x288 with 1 Axes>"
      ]
     },
     "metadata": {
      "image/png": {
       "height": 251,
       "width": 377
      }
     },
     "output_type": "display_data"
    }
   ],
   "source": [
    "vi_params[:D]\n",
    "var_means = vi_params[:D]\n",
    "var_variance = np.diag(np.exp(vi_params[D:])**2)\n",
    "print(var_means, np.sqrt(var_variance))\n",
    "x = np.random.normal(loc=var_means, scale=np.sqrt(var_variance), size=1_000)\n",
    "plt.hist(x, bins=20)\n",
    "plt.show()"
   ]
  },
  {
   "cell_type": "markdown",
   "metadata": {},
   "source": [
    "### Part II: Approximate the Posterior of a Bayesian Neural Network\n",
    "\n",
    "1. (**Variational Inference for BNNs**) We will implement the following Bayesian model for the data:\n",
    "\\begin{align}\n",
    "\\mathbf{W} &\\sim \\mathcal{N}(0, 5^2 \\mathbf{I}_{D\\times D})\\\\\n",
    "\\mu^{(n)} &= g_{\\mathbf{W}}(\\mathbf{X}^{(n)})\\\\\n",
    "Y^{(n)} &\\sim \\mathcal{N}(\\mu^{(n)}, 0.5^2)\n",
    "\\end{align}\n",
    "  where $g_{\\mathbf{W}}$ is a neural network with parameters $\\mathbf{W}$ represented as a vector in $\\mathbb{R}^{D}$ with $D$ being the total number of parameters (including biases). Just as in HW #7, use a network with a single hidden layer, 5 hidden nodes and rbf activation function.\n",
    "\n",
    "  Implement the log of the joint distribution in `autograd`'s version of `numpy`, i.e. implement $\\log \\left[p(\\mathbf{W})\\prod_{n=1}^N p(Y^{(n)} |\\mathbf{X}^{(n)} , \\mathbf{W}) \\right]$.\n",
    "  \n",
    "  ***Hint:*** you'll need to write out the log of the various Gaussian pdf's and implement their formulae using `autograd`'s numpy functions.<br><br>\n",
    "\n",
    "4. (**Approximate the Posterior**) Use BBVI with the reparametrization trick to approximate the posterior of the Bayesian neural network with a mean-field Gaussian variational family (i.e. an isotropic Gaussian). Please set learning rate and maximum iteration choices as you see fit!<br><br>\n",
    "  \n",
    "4. (**Visualize the Posterior Predictive**) Visualize 100 samples $\\mathbf{W}^s$ from your approximate posterior of $\\mathbf{W}$ by ploting the neural network outputs with weight $\\mathbf{W}^s$ plus a random noise $\\epsilon \\sim \\mathcal{N}(0, 0.5^2)$ at 100 equally spaced x-values between -8 and 8:\n",
    "``` python \n",
    "x_test = np.linspace(-8, 8, 100)\n",
    "y_test = nn.forward(sample, x_test.reshape((1, -1)))\n",
    "```\n",
    "  where `sample` is a sample from the approximate posterior of $\\mathbf{W}$.<br><br>\n",
    "\n",
    "5. (**Computing the Fit**) Compute the posterior predictive log likelihood of the observed data under your model. \n",
    "<br><br>\n",
    "  \n",
    "6. (**Model Evaluation**) Compare the posterior predictive visualization and the posterior predictive log likelihood obtained from BBVI with the reparametrization trick to the ones you obtained in HW #7. Can you say whether or not your posterior approximation is good? How does approximating the posterior effect our estimation of epistemic and aleatoric uncertainty?<br><br>\n",
    "\n",
    "7. (**Extra Credit**) Get your HMC sampler to converge for this BNN model and this dataset.\n",
    "\n"
   ]
  }
 ],
 "metadata": {
  "kernelspec": {
   "display_name": "Python 3",
   "language": "python",
   "name": "python3"
  },
  "language_info": {
   "codemirror_mode": {
    "name": "ipython",
    "version": 3
   },
   "file_extension": ".py",
   "mimetype": "text/x-python",
   "name": "python",
   "nbconvert_exporter": "python",
   "pygments_lexer": "ipython3",
   "version": "3.7.4"
  },
  "toc": {
   "base_numbering": 1,
   "nav_menu": {},
   "number_sections": false,
   "sideBar": true,
   "skip_h1_title": false,
   "title_cell": "Table of Contents",
   "title_sidebar": "Contents",
   "toc_cell": false,
   "toc_position": {
    "height": "calc(100% - 180px)",
    "left": "10px",
    "top": "150px",
    "width": "239.391px"
   },
   "toc_section_display": true,
   "toc_window_display": true
  }
 },
 "nbformat": 4,
 "nbformat_minor": 2
}
